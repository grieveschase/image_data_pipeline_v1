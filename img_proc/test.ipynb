{
 "cells": [
  {
   "cell_type": "code",
   "execution_count": 1,
   "metadata": {},
   "outputs": [],
   "source": [
    "from segment_cell_img_v1 import *\n",
    "from PIL import Image\n",
    "import skimage\n",
    "import scipy.misc\n",
    "import tifffile"
   ]
  },
  {
   "cell_type": "code",
   "execution_count": 2,
   "metadata": {},
   "outputs": [],
   "source": [
    "\n",
    "\n",
    "def plot_multi_images(img_list):\n",
    "\n",
    "    fig, axes = plt.subplots(1, len(img_list), figsize=(8, 5))\n",
    "    for ax, img in zip(axes,img_list):\n",
    "        if len(img.shape)==3:\n",
    "            ax.imshow(img)\n",
    "        else:\n",
    "            ax.imshow(img,cmap='gray')\n",
    "    parent = axes[0]\n",
    "    for i in range(1,len(axes)):\n",
    "        axes[i].sharex(parent)\n",
    "        axes[i].sharey(parent)\n",
    "    plt.tight_layout()\n",
    "    plt.show()\n",
    "\n",
    "\n",
    "# Load the image and convert to grayscale\n",
    "#image_path = r\"C:\\Users\\griev\\Downloads\\10143\\000275_16-14.png\"\n",
    "#image_path = r\"C:\\Users\\griev\\Downloads\\10143\\000025_6-2.png\"\n",
    "image_path = r\"C:\\Users\\griev\\Downloads\\10143\\000275_16-14.png\"\n",
    "\n",
    "#image = cv2.imread(image_path, cv2.IMREAD_GRAYSCALE)\n",
    "image = cv2.imread(image_path)\n",
    "image_rgb = cv2.cvtColor(image, cv2.COLOR_BGR2RGB)\n",
    "#plt.figure(); plt.imshow(image_rgb); plt.show()\n",
    "\n",
    "hsv_image = cv2.cvtColor(image, cv2.COLOR_BGR2HSV)\n",
    "#plt.figure(); plt.imshow(hsv_image); plt.show()\n",
    "\n",
    "# Define the range for the darker purple color (tweak these values as needed)\n",
    "lower_purple = np.array([120, 50, 50])   # Lower bound (Hue, Saturation, Value)\n",
    "upper_purple = np.array([150, 255, 150])  # Upper bound (Hue, Saturation, Value)\n",
    "\n",
    "# Create a mask using the HSV range\n",
    "mask = cv2.inRange(hsv_image, lower_purple, upper_purple)\n",
    "purple_extracted = cv2.bitwise_and(image_rgb, image_rgb, mask=mask)\n",
    "img_list = [image_rgb,hsv_image,purple_extracted]\n",
    "#plot_multi_images(img_list)"
   ]
  },
  {
   "cell_type": "code",
   "execution_count": 3,
   "metadata": {},
   "outputs": [],
   "source": [
    "\n"
   ]
  },
  {
   "cell_type": "code",
   "execution_count": 3,
   "metadata": {},
   "outputs": [
    {
     "name": "stdout",
     "output_type": "stream",
     "text": [
      "6635\n"
     ]
    }
   ],
   "source": [
    "#blk_labels_A, blk_count_A = skimage.measure.label(mask, connectivity=2, return_num=True)   \n",
    "blk_labels_b, blk_count_b = skimage.measure.label(mask, connectivity=1, return_num=True)   \n",
    "print(blk_count_b)"
   ]
  },
  {
   "cell_type": "code",
   "execution_count": 4,
   "metadata": {},
   "outputs": [],
   "source": [
    "blk_labels = blk_labels_b.copy().astype(np.int32)\n",
    "#tifffile.imwrite('output_image_con1.tiff', blk_labels)\n",
    "#scipy.misc.toimage(blk_labels_A).save('blk_labels_A.tiff')\n",
    "#im = Image.fromarray(blk_labels_A)\n",
    "\n",
    "#blk_labels.save(\"filename.tiff\", format=\"TIFF\", save_all=True)"
   ]
  },
  {
   "cell_type": "code",
   "execution_count": 20,
   "metadata": {},
   "outputs": [],
   "source": []
  },
  {
   "cell_type": "code",
   "execution_count": 5,
   "metadata": {},
   "outputs": [],
   "source": [
    "sparse_seg_img = coo_matrix(blk_labels)"
   ]
  },
  {
   "cell_type": "code",
   "execution_count": 11,
   "metadata": {},
   "outputs": [
    {
     "data": {
      "text/plain": [
       "(6635,)"
      ]
     },
     "execution_count": 11,
     "metadata": {},
     "output_type": "execute_result"
    }
   ],
   "source": [
    "np.unique(sparse_seg_img.data).shape"
   ]
  },
  {
   "cell_type": "code",
   "execution_count": null,
   "metadata": {},
   "outputs": [],
   "source": []
  }
 ],
 "metadata": {
  "kernelspec": {
   "display_name": "Python 3",
   "language": "python",
   "name": "python3"
  },
  "language_info": {
   "codemirror_mode": {
    "name": "ipython",
    "version": 3
   },
   "file_extension": ".py",
   "mimetype": "text/x-python",
   "name": "python",
   "nbconvert_exporter": "python",
   "pygments_lexer": "ipython3",
   "version": "3.12.6"
  }
 },
 "nbformat": 4,
 "nbformat_minor": 2
}
